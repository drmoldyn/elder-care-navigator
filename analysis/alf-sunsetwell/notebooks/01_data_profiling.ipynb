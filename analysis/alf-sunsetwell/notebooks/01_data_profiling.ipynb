{
 "cells": [
  {
   "cell_type": "markdown",
   "id": "0799b8b5",
   "metadata": {},
   "source": [
    "# 01 · Data Profiling (CA + FL + TX)\n",
    "Document coverage, summary stats, and state-level differences for assisted living facilities."
   ]
  },
  {
   "cell_type": "code",
   "execution_count": null,
   "id": "56615b69",
   "metadata": {},
   "outputs": [],
   "source": [
    "import pandas as pd\n",
    "from pathlib import Path\n",
    "DATA_PATH = Path('..') / 'data' / 'alf_ca_fl_tx_co_ny_20251013.csv'\n",
    "df = pd.read_csv(DATA_PATH)\n",
    "df.head()"
   ]
  }
 ],
 "metadata": {
  "kernelspec": {
   "display_name": "Python 3",
   "language": "python",
   "name": "python3"
  },
  "language_info": {
   "name": "python",
   "version": "3.12"
  }
 },
 "nbformat": 4,
 "nbformat_minor": 5
}
